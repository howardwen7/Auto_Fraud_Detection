{
 "cells": [
  {
   "cell_type": "code",
   "execution_count": 1,
   "metadata": {
    "scrolled": true
   },
   "outputs": [
    {
     "data": {
      "text/html": [
       "        <script type=\"text/javascript\">\n",
       "        window.PlotlyConfig = {MathJaxConfig: 'local'};\n",
       "        if (window.MathJax) {MathJax.Hub.Config({SVG: {font: \"STIX-Web\"}});}\n",
       "        if (typeof require !== 'undefined') {\n",
       "        require.undef(\"plotly\");\n",
       "        requirejs.config({\n",
       "            paths: {\n",
       "                'plotly': ['https://cdn.plot.ly/plotly-2.6.3.min']\n",
       "            }\n",
       "        });\n",
       "        require(['plotly'], function(Plotly) {\n",
       "            window._Plotly = Plotly;\n",
       "        });\n",
       "        }\n",
       "        </script>\n",
       "        "
      ]
     },
     "metadata": {},
     "output_type": "display_data"
    },
    {
     "name": "stdout",
     "output_type": "stream",
     "text": [
      "/Users/mac/Desktop/STAT 8051/Final Project\n"
     ]
    }
   ],
   "source": [
    "import warnings\n",
    "warnings.filterwarnings('ignore')\n",
    "\n",
    "# for some basic operations\n",
    "import numpy as np\n",
    "import scipy as sp\n",
    "import pandas as pd \n",
    "import joypy\n",
    "from sklearn.model_selection import train_test_split as tts\n",
    "from sklearn.linear_model import LogisticRegression, RidgeClassifier\n",
    "from sklearn.ensemble import RandomForestClassifier, VotingClassifier\n",
    "from sklearn.metrics import confusion_matrix, classification_report, precision_recall_fscore_support\n",
    "from sklearn.preprocessing import LabelEncoder, StandardScaler, OneHotEncoder\n",
    "from sklearn.naive_bayes import GaussianNB\n",
    "from sklearn.neighbors import KNeighborsClassifier\n",
    "from sklearn.impute import KNNImputer, SimpleImputer\n",
    "from sklearn.inspection import permutation_importance\n",
    "import wittgenstein as lw\n",
    "from imblearn.ensemble import BalancedRandomForestClassifier, EasyEnsembleClassifier, BalancedBaggingClassifier\n",
    "from imblearn.over_sampling import SMOTE\n",
    "from imblearn.under_sampling import RandomUnderSampler\n",
    "from sklearn.ensemble import AdaBoostClassifier\n",
    "from sklearn.model_selection import RepeatedKFold\n",
    "from sklearn.model_selection import cross_val_score\n",
    "from sklearn.tree import DecisionTreeClassifier\n",
    "import pickle\n",
    "from pyzipcode import ZipCodeDatabase\n",
    "from math import ceil\n",
    "\n",
    "# for visualizations\n",
    "import matplotlib.pyplot as plt\n",
    "import seaborn as sns\n",
    "from pandas import plotting\n",
    "from pandas.plotting import parallel_coordinates\n",
    "from pandas_profiling import ProfileReport\n",
    "\n",
    "# for interactive visualizations\n",
    "import plotly\n",
    "import plotly.offline as py\n",
    "from plotly.offline import init_notebook_mode, iplot\n",
    "import plotly.graph_objs as go\n",
    "from plotly import tools\n",
    "init_notebook_mode(connected = True)\n",
    "import plotly.figure_factory as ff\n",
    "import plotly.io as pio\n",
    "\n",
    "# for animated visualizations\n",
    "from bubbly.bubbly import bubbleplot\n",
    "import plotly_express as px\n",
    "\n",
    "# for providing path\n",
    "import os\n",
    "print(os.getcwd())\n",
    "\n",
    "# for modelling\n",
    "import sklearn\n",
    "import imblearn\n",
    "\n",
    "# for model explanation\n",
    "import shap \n",
    "import eli5"
   ]
  },
  {
   "cell_type": "markdown",
   "metadata": {},
   "source": [
    "### Some helper functions"
   ]
  },
  {
   "cell_type": "code",
   "execution_count": 2,
   "metadata": {},
   "outputs": [],
   "source": [
    "def load_data(path):\n",
    "    df = pd.read_csv(path, parse_dates = ['claim_date']).drop(['claim_number'], axis = 1)\n",
    "    return df"
   ]
  },
  {
   "cell_type": "code",
   "execution_count": 3,
   "metadata": {},
   "outputs": [],
   "source": [
    "def get_week_of_month(date):\n",
    "    first_day = date.replace(day=1)\n",
    "    \n",
    "    day_of_month = date.day\n",
    "\n",
    "    if(first_day.weekday() == 6):\n",
    "        adjusted_dom = (1 + first_day.weekday()) / 7\n",
    "    else:\n",
    "        adjusted_dom = day_of_month + first_day.weekday()\n",
    "\n",
    "    return int(ceil(adjusted_dom/7.0))"
   ]
  },
  {
   "cell_type": "code",
   "execution_count": 4,
   "metadata": {},
   "outputs": [],
   "source": [
    "def check_nulls(df):\n",
    "    return df.isnull().sum()[df.isnull().sum() > 0]"
   ]
  },
  {
   "cell_type": "code",
   "execution_count": 5,
   "metadata": {},
   "outputs": [],
   "source": [
    "def generate_classification_report(y_true, y_pred):\n",
    "    print(classification_report(y_true, y_pred))\n",
    "    plt.rcParams['figure.figsize'] = (10, 5)\n",
    "    cm = confusion_matrix(y_true, y_pred)\n",
    "    g = sns.heatmap(cm, annot = True, cmap = 'spring', fmt = '.4g')\n",
    "    return g"
   ]
  },
  {
   "cell_type": "code",
   "execution_count": 6,
   "metadata": {},
   "outputs": [],
   "source": [
    "def is_married(x):\n",
    "    if x == 1.0:\n",
    "        return True\n",
    "    elif x == 0.0:\n",
    "        return False\n",
    "    else:\n",
    "        return x"
   ]
  },
  {
   "cell_type": "code",
   "execution_count": 7,
   "metadata": {},
   "outputs": [],
   "source": [
    "def get_weekend(x):\n",
    "    if(x == 'Saturday' or x == 'Sunday'):\n",
    "        return 1\n",
    "    else:\n",
    "        return 0"
   ]
  },
  {
   "cell_type": "code",
   "execution_count": 8,
   "metadata": {},
   "outputs": [],
   "source": [
    "def replace_income(df):\n",
    "    df.loc[df[df['annual_income'] <= 0].index, 'annual_income'] = np.nan\n",
    "    return df"
   ]
  },
  {
   "cell_type": "code",
   "execution_count": 9,
   "metadata": {},
   "outputs": [],
   "source": [
    "def one_hot(col, encoder, df):\n",
    "    mask = ~df[col].isnull()\n",
    "    df[col][mask] = encoder.fit_transform(df[col][mask])\n",
    "    return df"
   ]
  },
  {
   "cell_type": "code",
   "execution_count": 10,
   "metadata": {},
   "outputs": [],
   "source": [
    "def encode(col, le, df):\n",
    "    mask = ~df[col].isnull()\n",
    "    df[col][mask] = le.fit_transform(df[col][mask])\n",
    "    return df"
   ]
  },
  {
   "cell_type": "code",
   "execution_count": 11,
   "metadata": {},
   "outputs": [],
   "source": [
    "def get_zip_codes(x, zip_code_engine):\n",
    "    try:\n",
    "        return zip_code_engine[x].city\n",
    "    except:\n",
    "        return 'None'"
   ]
  },
  {
   "cell_type": "code",
   "execution_count": 12,
   "metadata": {},
   "outputs": [],
   "source": [
    "def feat_and_tar(df, target):\n",
    "    X = df.drop(target, axis = 1)\n",
    "    y = df[target]\n",
    "    return X, y"
   ]
  },
  {
   "cell_type": "code",
   "execution_count": 13,
   "metadata": {},
   "outputs": [],
   "source": [
    "def split_dataset(X, y, test_size = .3):\n",
    "    X_train, X_test, y_train, y_test = tts(X, y, test_size = .3,\n",
    "                                       stratify = y,\n",
    "                                       random_state = 1)\n",
    "    return X_train, X_test, y_train, y_test"
   ]
  },
  {
   "cell_type": "code",
   "execution_count": 14,
   "metadata": {},
   "outputs": [],
   "source": [
    "def knn_impute(imp, X):\n",
    "    imp.fit(X)\n",
    "    return imp"
   ]
  },
  {
   "cell_type": "code",
   "execution_count": 15,
   "metadata": {},
   "outputs": [],
   "source": [
    "def simple_impute(X, imp, num_cols, cat_cols):\n",
    "    imp[0].fit(X[num_cols])\n",
    "    imp[1].fit(X[cat_cols])\n",
    "    return imp"
   ]
  },
  {
   "cell_type": "code",
   "execution_count": 16,
   "metadata": {},
   "outputs": [],
   "source": [
    "def scale(ss, X):\n",
    "    ss.fit(X)\n",
    "    return ss"
   ]
  },
  {
   "cell_type": "code",
   "execution_count": 17,
   "metadata": {},
   "outputs": [],
   "source": [
    "def generate_subm_csv(claim_id, y_out, name_initials):\n",
    "    df = pd.DataFrame({'claim_number' : claim_id,\n",
    "                       'pred' : y_out})\n",
    "    \n",
    "    df.to_csv(f\"travellers_final_submission_{name_initials}.csv\",\n",
    "              index = False)\n",
    "    return df"
   ]
  },
  {
   "cell_type": "markdown",
   "metadata": {},
   "source": [
    "### Some default conditions"
   ]
  },
  {
   "cell_type": "code",
   "execution_count": 18,
   "metadata": {},
   "outputs": [],
   "source": [
    "pd.set_option('display.max_columns', None)\n",
    "plt.figure(figsize = (10, 8))\n",
    "sns.set_style('darkgrid')\n",
    "%matplotlib inline"
   ]
  },
  {
   "cell_type": "markdown",
   "metadata": {},
   "source": [
    "## Reading the data.."
   ]
  },
  {
   "cell_type": "code",
   "execution_count": 19,
   "metadata": {},
   "outputs": [],
   "source": [
    "df = load_data('train_2021.csv')"
   ]
  },
  {
   "cell_type": "code",
   "execution_count": 20,
   "metadata": {},
   "outputs": [
    {
     "data": {
      "text/html": [
       "<div>\n",
       "<style scoped>\n",
       "    .dataframe tbody tr th:only-of-type {\n",
       "        vertical-align: middle;\n",
       "    }\n",
       "\n",
       "    .dataframe tbody tr th {\n",
       "        vertical-align: top;\n",
       "    }\n",
       "\n",
       "    .dataframe thead th {\n",
       "        text-align: right;\n",
       "    }\n",
       "</style>\n",
       "<table border=\"1\" class=\"dataframe\">\n",
       "  <thead>\n",
       "    <tr style=\"text-align: right;\">\n",
       "      <th></th>\n",
       "      <th>age_of_driver</th>\n",
       "      <th>gender</th>\n",
       "      <th>marital_status</th>\n",
       "      <th>safty_rating</th>\n",
       "      <th>annual_income</th>\n",
       "      <th>high_education_ind</th>\n",
       "      <th>address_change_ind</th>\n",
       "      <th>living_status</th>\n",
       "      <th>zip_code</th>\n",
       "      <th>claim_date</th>\n",
       "      <th>claim_day_of_week</th>\n",
       "      <th>accident_site</th>\n",
       "      <th>past_num_of_claims</th>\n",
       "      <th>witness_present_ind</th>\n",
       "      <th>liab_prct</th>\n",
       "      <th>channel</th>\n",
       "      <th>policy_report_filed_ind</th>\n",
       "      <th>claim_est_payout</th>\n",
       "      <th>age_of_vehicle</th>\n",
       "      <th>vehicle_category</th>\n",
       "      <th>vehicle_price</th>\n",
       "      <th>vehicle_color</th>\n",
       "      <th>vehicle_weight</th>\n",
       "      <th>fraud</th>\n",
       "    </tr>\n",
       "  </thead>\n",
       "  <tbody>\n",
       "    <tr>\n",
       "      <th>0</th>\n",
       "      <td>46</td>\n",
       "      <td>M</td>\n",
       "      <td>1.0</td>\n",
       "      <td>85</td>\n",
       "      <td>38301</td>\n",
       "      <td>1</td>\n",
       "      <td>1</td>\n",
       "      <td>Rent</td>\n",
       "      <td>80006</td>\n",
       "      <td>2016-12-16</td>\n",
       "      <td>Friday</td>\n",
       "      <td>Local</td>\n",
       "      <td>1</td>\n",
       "      <td>0.0</td>\n",
       "      <td>74</td>\n",
       "      <td>Broker</td>\n",
       "      <td>0</td>\n",
       "      <td>7530.940993</td>\n",
       "      <td>9.0</td>\n",
       "      <td>Compact</td>\n",
       "      <td>12885.45235</td>\n",
       "      <td>white</td>\n",
       "      <td>16161.33381</td>\n",
       "      <td>0</td>\n",
       "    </tr>\n",
       "    <tr>\n",
       "      <th>1</th>\n",
       "      <td>21</td>\n",
       "      <td>F</td>\n",
       "      <td>0.0</td>\n",
       "      <td>75</td>\n",
       "      <td>30445</td>\n",
       "      <td>0</td>\n",
       "      <td>1</td>\n",
       "      <td>Rent</td>\n",
       "      <td>15021</td>\n",
       "      <td>2015-02-12</td>\n",
       "      <td>Thursday</td>\n",
       "      <td>Highway</td>\n",
       "      <td>1</td>\n",
       "      <td>1.0</td>\n",
       "      <td>79</td>\n",
       "      <td>Online</td>\n",
       "      <td>0</td>\n",
       "      <td>2966.024895</td>\n",
       "      <td>4.0</td>\n",
       "      <td>Large</td>\n",
       "      <td>29429.45218</td>\n",
       "      <td>white</td>\n",
       "      <td>28691.96422</td>\n",
       "      <td>0</td>\n",
       "    </tr>\n",
       "    <tr>\n",
       "      <th>2</th>\n",
       "      <td>49</td>\n",
       "      <td>F</td>\n",
       "      <td>0.0</td>\n",
       "      <td>87</td>\n",
       "      <td>38923</td>\n",
       "      <td>0</td>\n",
       "      <td>1</td>\n",
       "      <td>Own</td>\n",
       "      <td>20158</td>\n",
       "      <td>2016-12-06</td>\n",
       "      <td>Tuesday</td>\n",
       "      <td>Local</td>\n",
       "      <td>0</td>\n",
       "      <td>0.0</td>\n",
       "      <td>0</td>\n",
       "      <td>Broker</td>\n",
       "      <td>0</td>\n",
       "      <td>6283.888333</td>\n",
       "      <td>3.0</td>\n",
       "      <td>Compact</td>\n",
       "      <td>21701.18195</td>\n",
       "      <td>white</td>\n",
       "      <td>22090.94758</td>\n",
       "      <td>1</td>\n",
       "    </tr>\n",
       "    <tr>\n",
       "      <th>3</th>\n",
       "      <td>58</td>\n",
       "      <td>F</td>\n",
       "      <td>1.0</td>\n",
       "      <td>58</td>\n",
       "      <td>40605</td>\n",
       "      <td>1</td>\n",
       "      <td>0</td>\n",
       "      <td>Own</td>\n",
       "      <td>15024</td>\n",
       "      <td>2016-05-05</td>\n",
       "      <td>Thursday</td>\n",
       "      <td>Local</td>\n",
       "      <td>3</td>\n",
       "      <td>0.0</td>\n",
       "      <td>99</td>\n",
       "      <td>Broker</td>\n",
       "      <td>1</td>\n",
       "      <td>6169.747994</td>\n",
       "      <td>4.0</td>\n",
       "      <td>Medium</td>\n",
       "      <td>13198.27344</td>\n",
       "      <td>other</td>\n",
       "      <td>38329.58106</td>\n",
       "      <td>1</td>\n",
       "    </tr>\n",
       "    <tr>\n",
       "      <th>4</th>\n",
       "      <td>38</td>\n",
       "      <td>M</td>\n",
       "      <td>1.0</td>\n",
       "      <td>95</td>\n",
       "      <td>36380</td>\n",
       "      <td>1</td>\n",
       "      <td>0</td>\n",
       "      <td>Rent</td>\n",
       "      <td>50034</td>\n",
       "      <td>2015-10-27</td>\n",
       "      <td>Tuesday</td>\n",
       "      <td>Highway</td>\n",
       "      <td>0</td>\n",
       "      <td>1.0</td>\n",
       "      <td>7</td>\n",
       "      <td>Broker</td>\n",
       "      <td>0</td>\n",
       "      <td>4541.387150</td>\n",
       "      <td>7.0</td>\n",
       "      <td>Medium</td>\n",
       "      <td>38060.21122</td>\n",
       "      <td>gray</td>\n",
       "      <td>25876.56319</td>\n",
       "      <td>0</td>\n",
       "    </tr>\n",
       "  </tbody>\n",
       "</table>\n",
       "</div>"
      ],
      "text/plain": [
       "   age_of_driver gender  marital_status  safty_rating  annual_income  \\\n",
       "0             46      M             1.0            85          38301   \n",
       "1             21      F             0.0            75          30445   \n",
       "2             49      F             0.0            87          38923   \n",
       "3             58      F             1.0            58          40605   \n",
       "4             38      M             1.0            95          36380   \n",
       "\n",
       "   high_education_ind  address_change_ind living_status  zip_code claim_date  \\\n",
       "0                   1                   1          Rent     80006 2016-12-16   \n",
       "1                   0                   1          Rent     15021 2015-02-12   \n",
       "2                   0                   1           Own     20158 2016-12-06   \n",
       "3                   1                   0           Own     15024 2016-05-05   \n",
       "4                   1                   0          Rent     50034 2015-10-27   \n",
       "\n",
       "  claim_day_of_week accident_site  past_num_of_claims  witness_present_ind  \\\n",
       "0            Friday         Local                   1                  0.0   \n",
       "1          Thursday       Highway                   1                  1.0   \n",
       "2           Tuesday         Local                   0                  0.0   \n",
       "3          Thursday         Local                   3                  0.0   \n",
       "4           Tuesday       Highway                   0                  1.0   \n",
       "\n",
       "   liab_prct channel  policy_report_filed_ind  claim_est_payout  \\\n",
       "0         74  Broker                        0       7530.940993   \n",
       "1         79  Online                        0       2966.024895   \n",
       "2          0  Broker                        0       6283.888333   \n",
       "3         99  Broker                        1       6169.747994   \n",
       "4          7  Broker                        0       4541.387150   \n",
       "\n",
       "   age_of_vehicle vehicle_category  vehicle_price vehicle_color  \\\n",
       "0             9.0          Compact    12885.45235         white   \n",
       "1             4.0            Large    29429.45218         white   \n",
       "2             3.0          Compact    21701.18195         white   \n",
       "3             4.0           Medium    13198.27344         other   \n",
       "4             7.0           Medium    38060.21122          gray   \n",
       "\n",
       "   vehicle_weight  fraud  \n",
       "0     16161.33381      0  \n",
       "1     28691.96422      0  \n",
       "2     22090.94758      1  \n",
       "3     38329.58106      1  \n",
       "4     25876.56319      0  "
      ]
     },
     "execution_count": 20,
     "metadata": {},
     "output_type": "execute_result"
    }
   ],
   "source": [
    "df.head()"
   ]
  },
  {
   "cell_type": "code",
   "execution_count": 21,
   "metadata": {},
   "outputs": [
    {
     "data": {
      "text/plain": [
       "(17998, 24)"
      ]
     },
     "execution_count": 21,
     "metadata": {},
     "output_type": "execute_result"
    }
   ],
   "source": [
    "df.shape"
   ]
  },
  {
   "cell_type": "markdown",
   "metadata": {},
   "source": [
    "## EDA"
   ]
  },
  {
   "cell_type": "markdown",
   "metadata": {},
   "source": [
    "### Check missing values"
   ]
  },
  {
   "cell_type": "code",
   "execution_count": 22,
   "metadata": {
    "scrolled": false
   },
   "outputs": [
    {
     "data": {
      "text/plain": [
       "marital_status           5\n",
       "witness_present_ind    132\n",
       "claim_est_payout        17\n",
       "age_of_vehicle           8\n",
       "dtype: int64"
      ]
     },
     "execution_count": 22,
     "metadata": {},
     "output_type": "execute_result"
    }
   ],
   "source": [
    "check_nulls(df)"
   ]
  },
  {
   "cell_type": "markdown",
   "metadata": {},
   "source": [
    "### Missing data in above mentioned columns"
   ]
  },
  {
   "cell_type": "code",
   "execution_count": 23,
   "metadata": {},
   "outputs": [
    {
     "data": {
      "image/png": "[encoded data removed]",
      "text/plain": [
       "<Figure size 1152x648 with 2 Axes>"
      ]
     },
     "metadata": {
      "needs_background": "light"
     },
     "output_type": "display_data"
    }
   ],
   "source": [
    "plt.figure(figsize = (16, 9))\n",
    "sns.heatmap(df.corr('spearman'), robust = True,\n",
    "            square = True, linewidths = 1.5);"
   ]
  },
  {
   "cell_type": "code",
   "execution_count": 24,
   "metadata": {},
   "outputs": [
    {
     "data": {
      "text/plain": [
       "past_num_of_claims         0.118596\n",
       "address_change_ind         0.072249\n",
       "age_of_vehicle             0.052197\n",
       "policy_report_filed_ind    0.030132\n",
       "vehicle_weight             0.009484\n",
       "liab_prct                  0.001463\n",
       "vehicle_price              0.000746\n",
       "claim_est_payout          -0.016708\n",
       "zip_code                  -0.032322\n",
       "annual_income             -0.045646\n",
       "safty_rating              -0.050729\n",
       "age_of_driver             -0.059291\n",
       "witness_present_ind       -0.074150\n",
       "marital_status            -0.078435\n",
       "high_education_ind        -0.098350\n",
       "Name: fraud, dtype: float64"
      ]
     },
     "execution_count": 24,
     "metadata": {},
     "output_type": "execute_result"
    }
   ],
   "source": [
    "df.corr().iloc[:, -1].sort_values(ascending = False)[1:]"
   ]
  },
  {
   "cell_type": "markdown",
   "metadata": {},
   "source": [
    "#### Age and income have high correlation; could be used to impute nulls of annual_income\n",
    "#### Most highly correlated features wrt target are address_change_ind, past_num_of_claims, policy_report_filed_ind & age_of_vehicle"
   ]
  },
  {
   "cell_type": "markdown",
   "metadata": {},
   "source": [
    "### Lets check the descriptive stats"
   ]
  },
  {
   "cell_type": "code",
   "execution_count": 25,
   "metadata": {},
   "outputs": [
    {
     "data": {
      "text/html": [
       "<div>\n",
       "<style scoped>\n",
       "    .dataframe tbody tr th:only-of-type {\n",
       "        vertical-align: middle;\n",
       "    }\n",
       "\n",
       "    .dataframe tbody tr th {\n",
       "        vertical-align: top;\n",
       "    }\n",
       "\n",
       "    .dataframe thead th {\n",
       "        text-align: right;\n",
       "    }\n",
       "</style>\n",
       "<table border=\"1\" class=\"dataframe\">\n",
       "  <thead>\n",
       "    <tr style=\"text-align: right;\">\n",
       "      <th></th>\n",
       "      <th>age_of_driver</th>\n",
       "      <th>marital_status</th>\n",
       "      <th>safty_rating</th>\n",
       "      <th>annual_income</th>\n",
       "      <th>high_education_ind</th>\n",
       "      <th>address_change_ind</th>\n",
       "      <th>zip_code</th>\n",
       "      <th>past_num_of_claims</th>\n",
       "      <th>witness_present_ind</th>\n",
       "      <th>liab_prct</th>\n",
       "      <th>policy_report_filed_ind</th>\n",
       "      <th>claim_est_payout</th>\n",
       "      <th>age_of_vehicle</th>\n",
       "      <th>vehicle_price</th>\n",
       "      <th>vehicle_weight</th>\n",
       "      <th>fraud</th>\n",
       "    </tr>\n",
       "  </thead>\n",
       "  <tbody>\n",
       "    <tr>\n",
       "      <th>count</th>\n",
       "      <td>17998.000000</td>\n",
       "      <td>17993.000000</td>\n",
       "      <td>17998.000000</td>\n",
       "      <td>17998.000000</td>\n",
       "      <td>17998.000000</td>\n",
       "      <td>17998.000000</td>\n",
       "      <td>17998.000000</td>\n",
       "      <td>17998.000000</td>\n",
       "      <td>17866.000000</td>\n",
       "      <td>17998.000000</td>\n",
       "      <td>17998.000000</td>\n",
       "      <td>17981.000000</td>\n",
       "      <td>17990.000000</td>\n",
       "      <td>17998.000000</td>\n",
       "      <td>17998.000000</td>\n",
       "      <td>17998.000000</td>\n",
       "    </tr>\n",
       "    <tr>\n",
       "      <th>mean</th>\n",
       "      <td>43.695466</td>\n",
       "      <td>0.712722</td>\n",
       "      <td>73.562951</td>\n",
       "      <td>37367.655684</td>\n",
       "      <td>0.699189</td>\n",
       "      <td>0.577286</td>\n",
       "      <td>49875.595955</td>\n",
       "      <td>0.505001</td>\n",
       "      <td>0.232677</td>\n",
       "      <td>49.423269</td>\n",
       "      <td>0.600678</td>\n",
       "      <td>4975.792083</td>\n",
       "      <td>5.008060</td>\n",
       "      <td>23089.123114</td>\n",
       "      <td>23031.322385</td>\n",
       "      <td>0.156462</td>\n",
       "    </tr>\n",
       "    <tr>\n",
       "      <th>std</th>\n",
       "      <td>11.959819</td>\n",
       "      <td>0.452505</td>\n",
       "      <td>15.346807</td>\n",
       "      <td>2957.297249</td>\n",
       "      <td>0.458623</td>\n",
       "      <td>0.494004</td>\n",
       "      <td>29214.655149</td>\n",
       "      <td>0.955504</td>\n",
       "      <td>0.422550</td>\n",
       "      <td>33.678470</td>\n",
       "      <td>0.489773</td>\n",
       "      <td>2215.706510</td>\n",
       "      <td>2.258391</td>\n",
       "      <td>11988.429767</td>\n",
       "      <td>12052.385584</td>\n",
       "      <td>0.363303</td>\n",
       "    </tr>\n",
       "    <tr>\n",
       "      <th>min</th>\n",
       "      <td>18.000000</td>\n",
       "      <td>0.000000</td>\n",
       "      <td>1.000000</td>\n",
       "      <td>-1.000000</td>\n",
       "      <td>0.000000</td>\n",
       "      <td>0.000000</td>\n",
       "      <td>0.000000</td>\n",
       "      <td>0.000000</td>\n",
       "      <td>0.000000</td>\n",
       "      <td>0.000000</td>\n",
       "      <td>0.000000</td>\n",
       "      <td>282.639432</td>\n",
       "      <td>0.000000</td>\n",
       "      <td>2457.329316</td>\n",
       "      <td>2429.429302</td>\n",
       "      <td>0.000000</td>\n",
       "    </tr>\n",
       "    <tr>\n",
       "      <th>25%</th>\n",
       "      <td>35.000000</td>\n",
       "      <td>0.000000</td>\n",
       "      <td>65.000000</td>\n",
       "      <td>35554.000000</td>\n",
       "      <td>0.000000</td>\n",
       "      <td>0.000000</td>\n",
       "      <td>20111.000000</td>\n",
       "      <td>0.000000</td>\n",
       "      <td>0.000000</td>\n",
       "      <td>17.000000</td>\n",
       "      <td>0.000000</td>\n",
       "      <td>3337.029436</td>\n",
       "      <td>3.000000</td>\n",
       "      <td>14279.574850</td>\n",
       "      <td>14164.122133</td>\n",
       "      <td>0.000000</td>\n",
       "    </tr>\n",
       "    <tr>\n",
       "      <th>50%</th>\n",
       "      <td>43.000000</td>\n",
       "      <td>1.000000</td>\n",
       "      <td>76.000000</td>\n",
       "      <td>37610.000000</td>\n",
       "      <td>1.000000</td>\n",
       "      <td>1.000000</td>\n",
       "      <td>50028.000000</td>\n",
       "      <td>0.000000</td>\n",
       "      <td>0.000000</td>\n",
       "      <td>50.000000</td>\n",
       "      <td>1.000000</td>\n",
       "      <td>4668.796318</td>\n",
       "      <td>5.000000</td>\n",
       "      <td>20948.879250</td>\n",
       "      <td>20838.150260</td>\n",
       "      <td>0.000000</td>\n",
       "    </tr>\n",
       "    <tr>\n",
       "      <th>75%</th>\n",
       "      <td>51.000000</td>\n",
       "      <td>1.000000</td>\n",
       "      <td>85.000000</td>\n",
       "      <td>39318.000000</td>\n",
       "      <td>1.000000</td>\n",
       "      <td>1.000000</td>\n",
       "      <td>80038.000000</td>\n",
       "      <td>1.000000</td>\n",
       "      <td>0.000000</td>\n",
       "      <td>81.000000</td>\n",
       "      <td>1.000000</td>\n",
       "      <td>6255.901066</td>\n",
       "      <td>6.000000</td>\n",
       "      <td>29562.232780</td>\n",
       "      <td>29430.446293</td>\n",
       "      <td>0.000000</td>\n",
       "    </tr>\n",
       "    <tr>\n",
       "      <th>max</th>\n",
       "      <td>229.000000</td>\n",
       "      <td>1.000000</td>\n",
       "      <td>100.000000</td>\n",
       "      <td>54333.000000</td>\n",
       "      <td>1.000000</td>\n",
       "      <td>1.000000</td>\n",
       "      <td>85083.000000</td>\n",
       "      <td>6.000000</td>\n",
       "      <td>1.000000</td>\n",
       "      <td>100.000000</td>\n",
       "      <td>1.000000</td>\n",
       "      <td>17218.345010</td>\n",
       "      <td>16.000000</td>\n",
       "      <td>127063.506000</td>\n",
       "      <td>123016.650400</td>\n",
       "      <td>1.000000</td>\n",
       "    </tr>\n",
       "  </tbody>\n",
       "</table>\n",
       "</div>"
      ],
      "text/plain": [
       "       age_of_driver  marital_status  safty_rating  annual_income  \\\n",
       "count   17998.000000    17993.000000  17998.000000   17998.000000   \n",
       "mean       43.695466        0.712722     73.562951   37367.655684   \n",
       "std        11.959819        0.452505     15.346807    2957.297249   \n",
       "min        18.000000        0.000000      1.000000      -1.000000   \n",
       "25%        35.000000        0.000000     65.000000   35554.000000   \n",
       "50%        43.000000        1.000000     76.000000   37610.000000   \n",
       "75%        51.000000        1.000000     85.000000   39318.000000   \n",
       "max       229.000000        1.000000    100.000000   54333.000000   \n",
       "\n",
       "       high_education_ind  address_change_ind      zip_code  \\\n",
       "count        17998.000000        17998.000000  17998.000000   \n",
       "mean             0.699189            0.577286  49875.595955   \n",
       "std              0.458623            0.494004  29214.655149   \n",
       "min              0.000000            0.000000      0.000000   \n",
       "25%              0.000000            0.000000  20111.000000   \n",
       "50%              1.000000            1.000000  50028.000000   \n",
       "75%              1.000000            1.000000  80038.000000   \n",
       "max              1.000000            1.000000  85083.000000   \n",
       "\n",
       "       past_num_of_claims  witness_present_ind     liab_prct  \\\n",
       "count        17998.000000         17866.000000  17998.000000   \n",
       "mean             0.505001             0.232677     49.423269   \n",
       "std              0.955504             0.422550     33.678470   \n",
       "min              0.000000             0.000000      0.000000   \n",
       "25%              0.000000             0.000000     17.000000   \n",
       "50%              0.000000             0.000000     50.000000   \n",
       "75%              1.000000             0.000000     81.000000   \n",
       "max              6.000000             1.000000    100.000000   \n",
       "\n",
       "       policy_report_filed_ind  claim_est_payout  age_of_vehicle  \\\n",
       "count             17998.000000      17981.000000    17990.000000   \n",
       "mean                  0.600678       4975.792083        5.008060   \n",
       "std                   0.489773       2215.706510        2.258391   \n",
       "min                   0.000000        282.639432        0.000000   \n",
       "25%                   0.000000       3337.029436        3.000000   \n",
       "50%                   1.000000       4668.796318        5.000000   \n",
       "75%                   1.000000       6255.901066        6.000000   \n",
       "max                   1.000000      17218.345010       16.000000   \n",
       "\n",
       "       vehicle_price  vehicle_weight         fraud  \n",
       "count   17998.000000    17998.000000  17998.000000  \n",
       "mean    23089.123114    23031.322385      0.156462  \n",
       "std     11988.429767    12052.385584      0.363303  \n",
       "min      2457.329316     2429.429302      0.000000  \n",
       "25%     14279.574850    14164.122133      0.000000  \n",
       "50%     20948.879250    20838.150260      0.000000  \n",
       "75%     29562.232780    29430.446293      0.000000  \n",
       "max    127063.506000   123016.650400      1.000000  "
      ]
     },
     "execution_count": 25,
     "metadata": {},
     "output_type": "execute_result"
    }
   ],
   "source": [
    "df.describe()"
   ]
  },
  {
   "cell_type": "markdown",
   "metadata": {},
   "source": [
    "#### Avg liab_prct is 50%\n",
    "#### Avg age of clients is 43\n",
    "#### Most of them are married\n",
    "#### Most of them have higher education\n",
    "#### almost 70%of the clients have had no past claims\n",
    "#### in most of the cases, witnesses were not present\n",
    "#### avg age of vehicle is 5 yrs"
   ]
  },
  {
   "cell_type": "markdown",
   "metadata": {},
   "source": [
    "### Lets check the skewness of the target"
   ]
  },
  {
   "cell_type": "code",
   "execution_count": 26,
   "metadata": {
    "scrolled": true
   },
   "outputs": [
    {
     "data": {
      "image/png": "[encoded data removed]",
      "text/plain": [
       "<Figure size 432x288 with 1 Axes>"
      ]
     },
     "metadata": {
      "needs_background": "light"
     },
     "output_type": "display_data"
    }
   ],
   "source": [
    "ax = sns.countplot(data = df, x = 'fraud')\n",
    "\n",
    "for p in ax.patches:\n",
    "    ax.annotate('{:.2f}%'.format(p.get_height()/df.shape[0]*100), (p.get_x()+0.30, p.get_height()+1))"
   ]
  },
  {
   "cell_type": "code",
   "execution_count": 27,
   "metadata": {},
   "outputs": [
    {
     "data": {
      "image/png": "[encoded data removed]",
      "text/plain": [
       "<Figure size 432x288 with 1 Axes>"
      ]
     },
     "metadata": {
      "needs_background": "light"
     },
     "output_type": "display_data"
    }
   ],
   "source": [
    "sns.histplot(data = df, x = 'fraud', y = 'annual_income');"
   ]
  },
  {
   "cell_type": "markdown",
   "metadata": {},
   "source": [
    "### Analysing the date feature"
   ]
  },
  {
   "cell_type": "code",
   "execution_count": 28,
   "metadata": {},
   "outputs": [],
   "source": [
    "frauds = df[df['fraud'] == 1]"
   ]
  },
  {
   "cell_type": "code",
   "execution_count": 29,
   "metadata": {},
   "outputs": [
    {
     "data": {
      "image/png": "[encoded data removed]",
      "text/plain": [
       "<Figure size 1440x1440 with 4 Axes>"
      ]
     },
     "metadata": {
      "needs_background": "light"
     },
     "output_type": "display_data"
    }
   ],
   "source": [
    "fig, ax = plt.subplots(2, 2, figsize = (20, 20))\n",
    "\n",
    "ax = ax.ravel()\n",
    "\n",
    "sns.countplot(y = frauds['claim_day_of_week'], ax = ax[0],\n",
    "              order = frauds['claim_day_of_week'].value_counts().index);\n",
    "ax[0].set_xlabel('Frauds');\n",
    "\n",
    "sns.countplot(frauds['claim_date'].dt.month, ax = ax[1],\n",
    "              order = frauds['claim_date'].dt.month.value_counts().index);\n",
    "ax[1].set_xlabel('Month');\n",
    "ax[1].set_ylabel('Frauds');\n",
    "\n",
    "sns.countplot(frauds['claim_date'].map(lambda x : get_week_of_month(x)), ax = ax[2],\n",
    "              order = frauds['claim_date'].map(lambda x : get_week_of_month(x)).value_counts().index);\n",
    "ax[2].set_xlabel('Week of the month');\n",
    "ax[2].set_ylabel('Frauds');\n",
    "\n",
    "sns.countplot(frauds['claim_date'].dt.year, ax = ax[3],\n",
    "              order = frauds['claim_date'].dt.year.value_counts().index);\n",
    "ax[3].set_xlabel('Year');\n",
    "ax[3].set_ylabel('Frauds');"
   ]
  },
  {
   "cell_type": "markdown",
   "metadata": {},
   "source": [
    "## Feature Engineering of Date Attribute"
   ]
  },
  {
   "cell_type": "code",
   "execution_count": 30,
   "metadata": {},
   "outputs": [],
   "source": [
    "df['year'] = df['claim_date'].dt.year\n",
    "df['month'] = df['claim_date'].dt.month"
   ]
  },
  {
   "cell_type": "code",
   "execution_count": 31,
   "metadata": {},
   "outputs": [],
   "source": [
    "df['is_weekend'] = df['claim_day_of_week'].map(lambda x : get_weekend(x))"
   ]
  },
  {
   "cell_type": "code",
   "execution_count": 32,
   "metadata": {},
   "outputs": [],
   "source": [
    "df['is_month_end'] = df['claim_date'].map(lambda x : x.is_month_end)"
   ]
  },
  {
   "cell_type": "code",
   "execution_count": 33,
   "metadata": {},
   "outputs": [],
   "source": [
    "df['is_month_start'] = df['claim_date'].map(lambda x : x.is_month_start)"
   ]
  },
  {
   "cell_type": "markdown",
   "metadata": {},
   "source": [
    "## Preprocessing"
   ]
  },
  {
   "cell_type": "markdown",
   "metadata": {},
   "source": [
    "### Setting the values of income less than 0 as NaN"
   ]
  },
  {
   "cell_type": "code",
   "execution_count": 34,
   "metadata": {},
   "outputs": [],
   "source": [
    "df = replace_income(df)"
   ]
  },
  {
   "cell_type": "code",
   "execution_count": 35,
   "metadata": {
    "scrolled": true
   },
   "outputs": [
    {
     "data": {
      "text/plain": [
       "marital_status           5\n",
       "annual_income           15\n",
       "witness_present_ind    132\n",
       "claim_est_payout        17\n",
       "age_of_vehicle           8\n",
       "dtype: int64"
      ]
     },
     "execution_count": 35,
     "metadata": {},
     "output_type": "execute_result"
    }
   ],
   "source": [
    "check_nulls(df)"
   ]
  },
  {
   "cell_type": "markdown",
   "metadata": {},
   "source": [
    "## Changing marital status to categorical"
   ]
  },
  {
   "cell_type": "code",
   "execution_count": 36,
   "metadata": {},
   "outputs": [],
   "source": [
    "df['marital_status'] = df['marital_status'].map(lambda x : is_married(x))"
   ]
  },
  {
   "cell_type": "markdown",
   "metadata": {},
   "source": [
    "## Searching cities from zipcodes"
   ]
  },
  {
   "cell_type": "code",
   "execution_count": 37,
   "metadata": {},
   "outputs": [],
   "source": [
    "zcdb = ZipCodeDatabase()"
   ]
  },
  {
   "cell_type": "code",
   "execution_count": 38,
   "metadata": {},
   "outputs": [],
   "source": [
    "df['city'] = df['zip_code'].map(lambda x : get_zip_codes(x, zcdb))"
   ]
  },
  {
   "cell_type": "code",
   "execution_count": 39,
   "metadata": {},
   "outputs": [
    {
     "data": {
      "text/plain": [
       "167"
      ]
     },
     "execution_count": 39,
     "metadata": {},
     "output_type": "execute_result"
    }
   ],
   "source": [
    "df['city'].value_counts()['None']"
   ]
  },
  {
   "cell_type": "code",
   "execution_count": 40,
   "metadata": {},
   "outputs": [],
   "source": [
    "most_freq_city = df['city'].mode().values[0]"
   ]
  },
  {
   "cell_type": "code",
   "execution_count": 41,
   "metadata": {},
   "outputs": [],
   "source": [
    "df['city'].replace({'None' : np.nan}, inplace = True)"
   ]
  },
  {
   "cell_type": "markdown",
   "metadata": {},
   "source": [
    "## Target Encoding of the cities"
   ]
  },
  {
   "cell_type": "code",
   "execution_count": 42,
   "metadata": {},
   "outputs": [],
   "source": [
    "target_enc = df[['city','fraud']].groupby(['city'], \n",
    "                as_index = False).mean().sort_values(by = 'fraud', \n",
    "                                                     ascending = False)\n",
    "target_embeddings = target_enc.set_index('city').T.to_dict('list')"
   ]
  },
  {
   "cell_type": "code",
   "execution_count": 43,
   "metadata": {},
   "outputs": [],
   "source": [
    "df['city'].replace(target_embeddings, inplace = True)"
   ]
  },
  {
   "cell_type": "code",
   "execution_count": 44,
   "metadata": {},
   "outputs": [],
   "source": [
    "df.drop('zip_code', axis = 1, inplace = True)"
   ]
  },
  {
   "cell_type": "markdown",
   "metadata": {},
   "source": [
    "### Dropping unnecessary and correlated features"
   ]
  },
  {
   "cell_type": "code",
   "execution_count": 45,
   "metadata": {},
   "outputs": [],
   "source": [
    "df.drop('claim_date', axis = 1, inplace = True)"
   ]
  },
  {
   "cell_type": "markdown",
   "metadata": {},
   "source": [
    "### Selecting categroical and numerical columns"
   ]
  },
  {
   "cell_type": "code",
   "execution_count": 46,
   "metadata": {},
   "outputs": [],
   "source": [
    "num_cols = df.drop('fraud', axis = 1).select_dtypes(include = ['number']).columns.tolist()\n",
    "cat_cols = df.drop('fraud', axis = 1).select_dtypes(include = ['O']).columns.tolist()"
   ]
  },
  {
   "cell_type": "markdown",
   "metadata": {},
   "source": [
    "### Imputing Annual Income with Age of Driver and rest attributes using KNN Imputer(Do not run the other 2 imputations while using this)"
   ]
  },
  {
   "cell_type": "code",
   "execution_count": 47,
   "metadata": {},
   "outputs": [],
   "source": [
    "x_imp_train = df[df['annual_income'].notna()][['age_of_driver']]\n",
    "y_imp_train = df[df['annual_income'].notna()]['annual_income']"
   ]
  },
  {
   "cell_type": "code",
   "execution_count": 48,
   "metadata": {},
   "outputs": [],
   "source": [
    "x_imp_test = df[df['annual_income'].isnull()][['age_of_driver']]"
   ]
  },
  {
   "cell_type": "code",
   "execution_count": 49,
   "metadata": {
    "scrolled": true
   },
   "outputs": [],
   "source": [
    "dtc_imp = DecisionTreeClassifier(random_state = 1)\n",
    "dtc_imp.fit(x_imp_train, y_imp_train)\n",
    "pred_values = dtc_imp.predict(x_imp_test)"
   ]
  },
  {
   "cell_type": "code",
   "execution_count": 50,
   "metadata": {},
   "outputs": [],
   "source": [
    "nan_index = df[df['annual_income'].isnull()]['annual_income'].index\n",
    "df.loc[nan_index, 'annual_income'] = pred_values"
   ]
  },
  {
   "cell_type": "code",
   "execution_count": 51,
   "metadata": {},
   "outputs": [
    {
     "data": {
      "text/plain": [
       "0"
      ]
     },
     "execution_count": 51,
     "metadata": {},
     "output_type": "execute_result"
    }
   ],
   "source": [
    "df['annual_income'].isnull().sum()"
   ]
  },
  {
   "cell_type": "markdown",
   "metadata": {},
   "source": [
    "### Dropping highly correlated variables"
   ]
  },
  {
   "cell_type": "code",
   "execution_count": 52,
   "metadata": {},
   "outputs": [],
   "source": [
    "df.drop('age_of_driver', axis = 1, inplace = True)"
   ]
  },
  {
   "cell_type": "markdown",
   "metadata": {},
   "source": [
    "### Transforming skewed attributes"
   ]
  },
  {
   "cell_type": "code",
   "execution_count": 53,
   "metadata": {
    "scrolled": true
   },
   "outputs": [
    {
     "data": {
      "image/png": "[encoded data removed]",
      "text/plain": [
       "<Figure size 720x576 with 4 Axes>"
      ]
     },
     "metadata": {
      "needs_background": "light"
     },
     "output_type": "display_data"
    }
   ],
   "source": [
    "fig, axs = plt.subplots(2, 2, figsize = (10, 8))\n",
    "\n",
    "cols = ['safty_rating', 'claim_est_payout', 'vehicle_price', 'vehicle_weight']\n",
    "\n",
    "\n",
    "for idx, ax in enumerate(axs.ravel()):\n",
    "    ax.hist(df[cols[idx]])\n",
    "    ax.set_xlabel(cols[idx])\n",
    "\n",
    "plt.tight_layout()"
   ]
  },
  {
   "cell_type": "code",
   "execution_count": 54,
   "metadata": {},
   "outputs": [
    {
     "data": {
      "image/png": "[encoded data removed]",
      "text/plain": [
       "<Figure size 720x576 with 4 Axes>"
      ]
     },
     "metadata": {
      "needs_background": "light"
     },
     "output_type": "display_data"
    }
   ],
   "source": [
    "fig, axs = plt.subplots(2, 2, figsize = (10, 8))\n",
    "\n",
    "cols = ['safty_rating', 'claim_est_payout', 'vehicle_price', 'vehicle_weight']\n",
    "\n",
    "\n",
    "for idx, ax in enumerate(axs.ravel()):\n",
    "    ax.hist(sp.stats.boxcox(df[cols[idx]]))\n",
    "    ax.set_xlabel(cols[idx])\n",
    "\n",
    "plt.tight_layout()"
   ]
  },
  {
   "cell_type": "code",
   "execution_count": 55,
   "metadata": {},
   "outputs": [],
   "source": [
    "for i in cols:\n",
    "    df[i] = sp.stats.boxcox(df[i])[0]"
   ]
  },
  {
   "cell_type": "code",
   "execution_count": 56,
   "metadata": {},
   "outputs": [
    {
     "data": {
      "image/png": "[encoded data removed]",
      "text/plain": [
       "<Figure size 432x288 with 4 Axes>"
      ]
     },
     "metadata": {
      "needs_background": "light"
     },
     "output_type": "display_data"
    }
   ],
   "source": [
    "fig, axs = plt.subplots(2, 2)\n",
    "\n",
    "cols = ['safty_rating', 'claim_est_payout', 'vehicle_price', 'vehicle_weight']\n",
    "\n",
    "\n",
    "for idx, ax in enumerate(axs.ravel()):\n",
    "    ax.hist(df[cols[idx]])\n",
    "    ax.set_xlabel(cols[idx])\n",
    "\n",
    "plt.tight_layout()"
   ]
  },
  {
   "cell_type": "markdown",
   "metadata": {},
   "source": [
    "### One hot encoding(Dont run the encoding cell below if this has been executed)"
   ]
  },
  {
   "cell_type": "code",
   "execution_count": 57,
   "metadata": {},
   "outputs": [],
   "source": [
    "df = pd.get_dummies(df, drop_first = True,\n",
    "                         columns = ['gender', 'marital_status', 'high_education_ind',\n",
    "                                    'address_change_ind', 'living_status',\n",
    "                                    'claim_day_of_week', 'accident_site',\n",
    "                                    'witness_present_ind', 'channel', \n",
    "                                    'policy_report_filed_ind', 'vehicle_category',\n",
    "                                    'vehicle_color', 'year', 'month', 'is_weekend',\n",
    "                                    'is_month_start', 'is_month_end'])"
   ]
  },
  {
   "cell_type": "code",
   "execution_count": 58,
   "metadata": {
    "scrolled": true
   },
   "outputs": [
    {
     "data": {
      "text/plain": [
       "(17998, 50)"
      ]
     },
     "execution_count": 58,
     "metadata": {},
     "output_type": "execute_result"
    }
   ],
   "source": [
    "df.shape"
   ]
  },
  {
   "cell_type": "markdown",
   "metadata": {},
   "source": [
    "### Imputing nulls using KNN imputer"
   ]
  },
  {
   "cell_type": "code",
   "execution_count": 59,
   "metadata": {},
   "outputs": [],
   "source": [
    "imp = KNNImputer()\n",
    "df = pd.DataFrame(imp.fit_transform(df),columns = df.columns)"
   ]
  },
  {
   "cell_type": "markdown",
   "metadata": {},
   "source": [
    "### Dividing initial the dataframe into features and response"
   ]
  },
  {
   "cell_type": "code",
   "execution_count": 60,
   "metadata": {},
   "outputs": [],
   "source": [
    "X, y = feat_and_tar(df, 'fraud')"
   ]
  },
  {
   "cell_type": "markdown",
   "metadata": {},
   "source": [
    "### 70:30 Train test split with stratification of response"
   ]
  },
  {
   "cell_type": "code",
   "execution_count": 61,
   "metadata": {},
   "outputs": [],
   "source": [
    "X_train, X_test, y_train, y_test = split_dataset(X, y)"
   ]
  },
  {
   "cell_type": "markdown",
   "metadata": {},
   "source": [
    "### Standardizing the features"
   ]
  },
  {
   "cell_type": "code",
   "execution_count": 62,
   "metadata": {},
   "outputs": [],
   "source": [
    "ss = StandardScaler()"
   ]
  },
  {
   "cell_type": "code",
   "execution_count": 63,
   "metadata": {},
   "outputs": [],
   "source": [
    "ss = scale(ss, X_train)\n",
    "X_train_scaled = ss.transform(X_train)\n",
    "X_test_scaled = ss.transform(X_test)"
   ]
  },
  {
   "cell_type": "code",
   "execution_count": 64,
   "metadata": {},
   "outputs": [
    {
     "name": "stdout",
     "output_type": "stream",
     "text": [
      "Shape of X_train: (12598, 49)\n",
      "Shape of X_test: (5400, 49)\n",
      "Shape of y_train: (12598,)\n",
      "Shape of y_test: (5400,)\n"
     ]
    }
   ],
   "source": [
    "print(\"Shape of X_train:\", X_train_scaled.shape)\n",
    "print(\"Shape of X_test:\", X_test_scaled.shape)\n",
    "print(\"Shape of y_train:\", y_train.shape)\n",
    "print(\"Shape of y_test:\", y_test.shape)"
   ]
  },
  {
   "cell_type": "markdown",
   "metadata": {},
   "source": [
    "### Sampling"
   ]
  },
  {
   "cell_type": "code",
   "execution_count": 65,
   "metadata": {},
   "outputs": [],
   "source": [
    "over_sm = SMOTE()"
   ]
  },
  {
   "cell_type": "code",
   "execution_count": 66,
   "metadata": {},
   "outputs": [],
   "source": [
    "X_train_over, y_train_over = over_sm.fit_resample(X_train_scaled, y_train)"
   ]
  },
  {
   "cell_type": "code",
   "execution_count": 67,
   "metadata": {},
   "outputs": [
    {
     "data": {
      "text/plain": [
       "(0.0    10627\n",
       " 1.0     1971\n",
       " Name: fraud, dtype: int64,\n",
       " 0.0    10627\n",
       " 1.0    10627\n",
       " Name: fraud, dtype: int64)"
      ]
     },
     "execution_count": 67,
     "metadata": {},
     "output_type": "execute_result"
    }
   ],
   "source": [
    "y_train.value_counts(), y_train_over.value_counts()"
   ]
  },
  {
   "cell_type": "code",
   "execution_count": 68,
   "metadata": {},
   "outputs": [],
   "source": [
    "under_sm = RandomUnderSampler()"
   ]
  },
  {
   "cell_type": "code",
   "execution_count": 69,
   "metadata": {},
   "outputs": [],
   "source": [
    "X_train_under, y_train_under = under_sm.fit_resample(X_train_scaled, y_train)"
   ]
  },
  {
   "cell_type": "code",
   "execution_count": 70,
   "metadata": {},
   "outputs": [
    {
     "data": {
      "text/plain": [
       "(0.0    10627\n",
       " 1.0     1971\n",
       " Name: fraud, dtype: int64,\n",
       " 0.0    1971\n",
       " 1.0    1971\n",
       " Name: fraud, dtype: int64)"
      ]
     },
     "execution_count": 70,
     "metadata": {},
     "output_type": "execute_result"
    }
   ],
   "source": [
    "y_train.value_counts(), y_train_under.value_counts()"
   ]
  },
  {
   "cell_type": "markdown",
   "metadata": {},
   "source": [
    "## Model Building"
   ]
  },
  {
   "cell_type": "markdown",
   "metadata": {},
   "source": [
    "### Applying Logistic Regression (no sampling)"
   ]
  },
  {
   "cell_type": "code",
   "execution_count": 71,
   "metadata": {},
   "outputs": [],
   "source": [
    "log_lr = LogisticRegression(penalty = 'none', random_state = 1)"
   ]
  },
  {
   "cell_type": "code",
   "execution_count": 72,
   "metadata": {},
   "outputs": [
    {
     "data": {
      "text/plain": [
       "LogisticRegression(penalty='none', random_state=1)"
      ]
     },
     "execution_count": 72,
     "metadata": {},
     "output_type": "execute_result"
    }
   ],
   "source": [
    "log_lr.fit(X_train_scaled, y_train)"
   ]
  },
  {
   "cell_type": "code",
   "execution_count": 73,
   "metadata": {},
   "outputs": [],
   "source": [
    "cv = RepeatedKFold(n_splits=5, n_repeats=3, random_state=1)"
   ]
  },
  {
   "cell_type": "code",
   "execution_count": 74,
   "metadata": {},
   "outputs": [],
   "source": [
    "cv_scores = cross_val_score(log_lr, X_train_scaled, y_train, scoring='f1', cv=cv, n_jobs=-1)"
   ]
  },
  {
   "cell_type": "code",
   "execution_count": 75,
   "metadata": {
    "scrolled": true
   },
   "outputs": [
    {
     "name": "stdout",
     "output_type": "stream",
     "text": [
      "LogLr: [0.08200456 0.06818182 0.02717391 0.07095344 0.04807692 0.03294118\n",
      " 0.04275534 0.06341463 0.08450704 0.05687204 0.06763285 0.03414634\n",
      " 0.04618938 0.04576659 0.05405405]\n",
      "Mean(F1): 0.0549780063141743\n",
      "Std dev(F1): 0.01696952664922913\n"
     ]
    }
   ],
   "source": [
    "print(\"LogLr:\",cv_scores)\n",
    "print(\"Mean(F1):\", np.mean(cv_scores))\n",
    "print(\"Std dev(F1):\", np.std(cv_scores))"
   ]
  },
  {
   "cell_type": "code",
   "execution_count": 76,
   "metadata": {},
   "outputs": [],
   "source": [
    "y_pred = log_lr.predict(X_test_scaled)"
   ]
  },
  {
   "cell_type": "markdown",
   "metadata": {},
   "source": [
    "### Confusion matrix"
   ]
  },
  {
   "cell_type": "code",
   "execution_count": 77,
   "metadata": {
    "scrolled": true
   },
   "outputs": [
    {
     "name": "stdout",
     "output_type": "stream",
     "text": [
      "              precision    recall  f1-score   support\n",
      "\n",
      "         0.0       0.85      0.99      0.91      4555\n",
      "         1.0       0.50      0.03      0.05       845\n",
      "\n",
      "    accuracy                           0.84      5400\n",
      "   macro avg       0.67      0.51      0.48      5400\n",
      "weighted avg       0.79      0.84      0.78      5400\n",
      "\n"
     ]
    },
    {
     "data": {
      "image/png": "[encoded data removed]",
      "text/plain": [
       "<Figure size 720x360 with 2 Axes>"
      ]
     },
     "metadata": {
      "needs_background": "light"
     },
     "output_type": "display_data"
    }
   ],
   "source": [
    "generate_classification_report(y_test, y_pred);"
   ]
  },
  {
   "cell_type": "markdown",
   "metadata": {},
   "source": [
    "### Performance metrics"
   ]
  },
  {
   "cell_type": "code",
   "execution_count": 78,
   "metadata": {},
   "outputs": [
    {
     "name": "stdout",
     "output_type": "stream",
     "text": [
      "Precision is: 0.5\n",
      "Recall is: 0.03\n",
      "F-score is: 0.05\n"
     ]
    }
   ],
   "source": [
    "print(\"Precision is:\", round(precision_recall_fscore_support(y_test, y_pred, average='binary')[0], 2))\n",
    "print(\"Recall is:\", round(precision_recall_fscore_support(y_test, y_pred, average='binary')[1], 2))\n",
    "print(\"F-score is:\", round(precision_recall_fscore_support(y_test, y_pred, average='binary')[2], 2))"
   ]
  },
  {
   "cell_type": "markdown",
   "metadata": {},
   "source": [
    "### Applying Logistic Regression (oversampling)"
   ]
  },
  {
   "cell_type": "code",
   "execution_count": 79,
   "metadata": {},
   "outputs": [],
   "source": [
    "log_lr = LogisticRegression(penalty = 'none', random_state = 1)"
   ]
  },
  {
   "cell_type": "code",
   "execution_count": 80,
   "metadata": {},
   "outputs": [
    {
     "data": {
      "text/plain": [
       "LogisticRegression(penalty='none', random_state=1)"
      ]
     },
     "execution_count": 80,
     "metadata": {},
     "output_type": "execute_result"
    }
   ],
   "source": [
    "log_lr.fit(X_train_over, y_train_over)"
   ]
  },
  {
   "cell_type": "code",
   "execution_count": 81,
   "metadata": {},
   "outputs": [],
   "source": [
    "cv = RepeatedKFold(n_splits=5, n_repeats=3, random_state=1)"
   ]
  },
  {
   "cell_type": "code",
   "execution_count": 82,
   "metadata": {},
   "outputs": [],
   "source": [
    "cv_scores = cross_val_score(log_lr, X_train_over, y_train_over, scoring='f1', cv=cv, n_jobs=-1)"
   ]
  },
  {
   "cell_type": "code",
   "execution_count": 83,
   "metadata": {},
   "outputs": [
    {
     "name": "stdout",
     "output_type": "stream",
     "text": [
      "LogLr: [0.67221067 0.67585573 0.66621036 0.67565056 0.66387727 0.66247379\n",
      " 0.66464411 0.67741193 0.67153285 0.68031854 0.67894979 0.67349261\n",
      " 0.67262314 0.66620079 0.66775548]\n",
      "Mean(F1): 0.6712805078178824\n",
      "Std dev(F1): 0.005574327911164956\n"
     ]
    }
   ],
   "source": [
    "print(\"LogLr:\",cv_scores)\n",
    "print(\"Mean(F1):\", np.mean(cv_scores))\n",
    "print(\"Std dev(F1):\", np.std(cv_scores))"
   ]
  },
  {
   "cell_type": "code",
   "execution_count": 84,
   "metadata": {},
   "outputs": [],
   "source": [
    "y_pred = log_lr.predict(X_test_scaled)"
   ]
  },
  {
   "cell_type": "markdown",
   "metadata": {},
   "source": [
    "### Confusion matrix"
   ]
  },
  {
   "cell_type": "code",
   "execution_count": 85,
   "metadata": {},
   "outputs": [
    {
     "name": "stdout",
     "output_type": "stream",
     "text": [
      "              precision    recall  f1-score   support\n",
      "\n",
      "         0.0       0.91      0.66      0.77      4555\n",
      "         1.0       0.26      0.65      0.37       845\n",
      "\n",
      "    accuracy                           0.66      5400\n",
      "   macro avg       0.59      0.66      0.57      5400\n",
      "weighted avg       0.81      0.66      0.70      5400\n",
      "\n"
     ]
    },
    {
     "data": {
      "image/png": "[encoded data removed]",
      "text/plain": [
       "<Figure size 720x360 with 2 Axes>"
      ]
     },
     "metadata": {
      "needs_background": "light"
     },
     "output_type": "display_data"
    }
   ],
   "source": [
    "generate_classification_report(y_test, y_pred);"
   ]
  },
  {
   "cell_type": "markdown",
   "metadata": {},
   "source": [
    "### Performance metrics"
   ]
  },
  {
   "cell_type": "code",
   "execution_count": 86,
   "metadata": {},
   "outputs": [
    {
     "name": "stdout",
     "output_type": "stream",
     "text": [
      "Precision is: 0.26\n",
      "Recall is: 0.65\n",
      "F-score is: 0.37\n"
     ]
    }
   ],
   "source": [
    "print(\"Precision is:\", round(precision_recall_fscore_support(y_test, y_pred, average='binary')[0], 2))\n",
    "print(\"Recall is:\", round(precision_recall_fscore_support(y_test, y_pred, average='binary')[1], 2))\n",
    "print(\"F-score is:\", round(precision_recall_fscore_support(y_test, y_pred, average='binary')[2], 2))"
   ]
  },
  {
   "cell_type": "markdown",
   "metadata": {},
   "source": [
    "### Applying Logistic Regression (undersampling)"
   ]
  },
  {
   "cell_type": "code",
   "execution_count": 87,
   "metadata": {},
   "outputs": [],
   "source": [
    "log_lr = LogisticRegression(penalty = 'none', random_state = 1)"
   ]
  },
  {
   "cell_type": "code",
   "execution_count": 88,
   "metadata": {},
   "outputs": [
    {
     "data": {
      "text/plain": [
       "LogisticRegression(penalty='none', random_state=1)"
      ]
     },
     "execution_count": 88,
     "metadata": {},
     "output_type": "execute_result"
    }
   ],
   "source": [
    "log_lr.fit(X_train_under, y_train_under)"
   ]
  },
  {
   "cell_type": "code",
   "execution_count": 89,
   "metadata": {},
   "outputs": [],
   "source": [
    "cv = RepeatedKFold(n_splits=5, n_repeats=3, random_state=1)"
   ]
  },
  {
   "cell_type": "code",
   "execution_count": 90,
   "metadata": {},
   "outputs": [],
   "source": [
    "cv_scores = cross_val_score(log_lr, X_train_under, y_train_under, scoring='f1', cv=cv, n_jobs=-1)"
   ]
  },
  {
   "cell_type": "code",
   "execution_count": 91,
   "metadata": {},
   "outputs": [
    {
     "name": "stdout",
     "output_type": "stream",
     "text": [
      "LogLr: [0.61760841 0.64735516 0.65151515 0.67699642 0.62986198 0.65533981\n",
      " 0.67435897 0.6343949  0.63024142 0.61616162 0.6525     0.61261261\n",
      " 0.6460396  0.63567839 0.64885496]\n",
      "Mean(F1): 0.6419679617515901\n",
      "Std dev(F1): 0.01871211521096366\n"
     ]
    }
   ],
   "source": [
    "print(\"LogLr:\",cv_scores)\n",
    "print(\"Mean(F1):\", np.mean(cv_scores))\n",
    "print(\"Std dev(F1):\", np.std(cv_scores))"
   ]
  },
  {
   "cell_type": "code",
   "execution_count": 92,
   "metadata": {},
   "outputs": [],
   "source": [
    "y_pred = log_lr.predict(X_test_scaled)"
   ]
  },
  {
   "cell_type": "markdown",
   "metadata": {},
   "source": [
    "### Confusion matrix"
   ]
  },
  {
   "cell_type": "code",
   "execution_count": 93,
   "metadata": {},
   "outputs": [
    {
     "name": "stdout",
     "output_type": "stream",
     "text": [
      "              precision    recall  f1-score   support\n",
      "\n",
      "         0.0       0.91      0.65      0.76      4555\n",
      "         1.0       0.26      0.67      0.37       845\n",
      "\n",
      "    accuracy                           0.65      5400\n",
      "   macro avg       0.59      0.66      0.57      5400\n",
      "weighted avg       0.81      0.65      0.70      5400\n",
      "\n"
     ]
    },
    {
     "data": {
      "image/png": "[encoded data removed]",
      "text/plain": [
       "<Figure size 720x360 with 2 Axes>"
      ]
     },
     "metadata": {
      "needs_background": "light"
     },
     "output_type": "display_data"
    }
   ],
   "source": [
    "generate_classification_report(y_test, y_pred);"
   ]
  },
  {
   "cell_type": "markdown",
   "metadata": {},
   "source": [
    "### Performance metrics"
   ]
  },
  {
   "cell_type": "code",
   "execution_count": 94,
   "metadata": {
    "scrolled": true
   },
   "outputs": [
    {
     "name": "stdout",
     "output_type": "stream",
     "text": [
      "Precision is: 0.26\n",
      "Recall is: 0.67\n",
      "F-score is: 0.37\n"
     ]
    }
   ],
   "source": [
    "print(\"Precision is:\", round(precision_recall_fscore_support(y_test, y_pred, average='binary')[0], 2))\n",
    "print(\"Recall is:\", round(precision_recall_fscore_support(y_test, y_pred, average='binary')[1], 2))\n",
    "print(\"F-score is:\", round(precision_recall_fscore_support(y_test, y_pred, average='binary')[2], 2))"
   ]
  },
  {
   "cell_type": "markdown",
   "metadata": {},
   "source": [
    "### Applying random forest (no sampling)"
   ]
  },
  {
   "cell_type": "code",
   "execution_count": 95,
   "metadata": {},
   "outputs": [],
   "source": [
    "rfc = RandomForestClassifier(random_state = 1)"
   ]
  },
  {
   "cell_type": "code",
   "execution_count": 96,
   "metadata": {},
   "outputs": [
    {
     "data": {
      "text/plain": [
       "RandomForestClassifier(random_state=1)"
      ]
     },
     "execution_count": 96,
     "metadata": {},
     "output_type": "execute_result"
    }
   ],
   "source": [
    "rfc.fit(X_train_scaled, y_train)"
   ]
  },
  {
   "cell_type": "code",
   "execution_count": 97,
   "metadata": {},
   "outputs": [],
   "source": [
    "cv_scores = cross_val_score(rfc, X_train_scaled, y_train, scoring='f1', cv=cv, n_jobs=-1)"
   ]
  },
  {
   "cell_type": "code",
   "execution_count": 98,
   "metadata": {
    "scrolled": true
   },
   "outputs": [
    {
     "name": "stdout",
     "output_type": "stream",
     "text": [
      "RFC: [0.02403846 0.0049505  0.00566572 0.         0.00506329 0.00995025\n",
      " 0.00501253 0.         0.00511509 0.00496278 0.         0.01025641\n",
      " 0.         0.00487805 0.        ]\n",
      "Mean(F1): 0.005326205193242814\n",
      "Std dev(F1): 0.005991555083497987\n"
     ]
    }
   ],
   "source": [
    "print(\"RFC:\",cv_scores)\n",
    "print(\"Mean(F1):\", np.mean(cv_scores))\n",
    "print(\"Std dev(F1):\", np.std(cv_scores))"
   ]
  },
  {
   "cell_type": "code",
   "execution_count": 99,
   "metadata": {},
   "outputs": [],
   "source": [
    "y_pred = rfc.predict(X_test_scaled)"
   ]
  },
  {
   "cell_type": "markdown",
   "metadata": {},
   "source": [
    "### Confusion matrix"
   ]
  },
  {
   "cell_type": "code",
   "execution_count": 100,
   "metadata": {},
   "outputs": [
    {
     "name": "stdout",
     "output_type": "stream",
     "text": [
      "              precision    recall  f1-score   support\n",
      "\n",
      "         0.0       0.84      1.00      0.92      4555\n",
      "         1.0       0.75      0.01      0.01       845\n",
      "\n",
      "    accuracy                           0.84      5400\n",
      "   macro avg       0.80      0.50      0.46      5400\n",
      "weighted avg       0.83      0.84      0.77      5400\n",
      "\n"
     ]
    },
    {
     "data": {
      "image/png": "[encoded data removed]",
      "text/plain": [
       "<Figure size 720x360 with 2 Axes>"
      ]
     },
     "metadata": {
      "needs_background": "light"
     },
     "output_type": "display_data"
    }
   ],
   "source": [
    "generate_classification_report(y_test, y_pred);"
   ]
  },
  {
   "cell_type": "markdown",
   "metadata": {},
   "source": [
    "### Performance metrics"
   ]
  },
  {
   "cell_type": "code",
   "execution_count": 101,
   "metadata": {
    "scrolled": true
   },
   "outputs": [
    {
     "name": "stdout",
     "output_type": "stream",
     "text": [
      "Precision is: 0.75\n",
      "Recall is: 0.01\n",
      "F-score is: 0.01\n"
     ]
    }
   ],
   "source": [
    "print(\"Precision is:\", round(precision_recall_fscore_support(y_test, y_pred, average='binary')[0], 2))\n",
    "print(\"Recall is:\", round(precision_recall_fscore_support(y_test, y_pred, average='binary')[1], 2))\n",
    "print(\"F-score is:\", round(precision_recall_fscore_support(y_test, y_pred, average='binary')[2], 2))"
   ]
  },
  {
   "cell_type": "markdown",
   "metadata": {},
   "source": [
    "### Applying random forest (oversampling)"
   ]
  },
  {
   "cell_type": "code",
   "execution_count": 102,
   "metadata": {},
   "outputs": [],
   "source": [
    "rfc = RandomForestClassifier(random_state = 1)"
   ]
  },
  {
   "cell_type": "code",
   "execution_count": 103,
   "metadata": {},
   "outputs": [
    {
     "data": {
      "text/plain": [
       "RandomForestClassifier(random_state=1)"
      ]
     },
     "execution_count": 103,
     "metadata": {},
     "output_type": "execute_result"
    }
   ],
   "source": [
    "rfc.fit(X_train_over, y_train_over)"
   ]
  },
  {
   "cell_type": "code",
   "execution_count": 104,
   "metadata": {},
   "outputs": [],
   "source": [
    "cv_scores = cross_val_score(rfc, X_train_over, y_train_over, scoring='f1', cv=cv, n_jobs=-1)"
   ]
  },
  {
   "cell_type": "code",
   "execution_count": 105,
   "metadata": {
    "scrolled": true
   },
   "outputs": [
    {
     "name": "stdout",
     "output_type": "stream",
     "text": [
      "RFC: [0.90448442 0.90810811 0.90781914 0.91852227 0.90909091 0.90804598\n",
      " 0.90825688 0.9138368  0.90872618 0.91572893 0.90959737 0.91223607\n",
      " 0.90799699 0.91034483 0.90466321]\n",
      "Mean(F1): 0.9098305382857746\n",
      "Std dev(F1): 0.003702045711798132\n"
     ]
    }
   ],
   "source": [
    "print(\"RFC:\",cv_scores)\n",
    "print(\"Mean(F1):\", np.mean(cv_scores))\n",
    "print(\"Std dev(F1):\", np.std(cv_scores))"
   ]
  },
  {
   "cell_type": "code",
   "execution_count": 106,
   "metadata": {},
   "outputs": [],
   "source": [
    "y_pred = rfc.predict(X_test_scaled)"
   ]
  },
  {
   "cell_type": "markdown",
   "metadata": {},
   "source": [
    "### Confusion matrix"
   ]
  },
  {
   "cell_type": "code",
   "execution_count": 107,
   "metadata": {},
   "outputs": [
    {
     "name": "stdout",
     "output_type": "stream",
     "text": [
      "              precision    recall  f1-score   support\n",
      "\n",
      "         0.0       0.85      0.99      0.91      4555\n",
      "         1.0       0.45      0.04      0.08       845\n",
      "\n",
      "    accuracy                           0.84      5400\n",
      "   macro avg       0.65      0.52      0.49      5400\n",
      "weighted avg       0.79      0.84      0.78      5400\n",
      "\n"
     ]
    },
    {
     "data": {
      "image/png": "[encoded data removed]",
      "text/plain": [
       "<Figure size 720x360 with 2 Axes>"
      ]
     },
     "metadata": {
      "needs_background": "light"
     },
     "output_type": "display_data"
    }
   ],
   "source": [
    "generate_classification_report(y_test, y_pred);"
   ]
  },
  {
   "cell_type": "markdown",
   "metadata": {},
   "source": [
    "### Performance metrics"
   ]
  },
  {
   "cell_type": "code",
   "execution_count": 108,
   "metadata": {
    "scrolled": true
   },
   "outputs": [
    {
     "name": "stdout",
     "output_type": "stream",
     "text": [
      "Precision is: 0.45\n",
      "Recall is: 0.04\n",
      "F-score is: 0.08\n"
     ]
    }
   ],
   "source": [
    "print(\"Precision is:\", round(precision_recall_fscore_support(y_test, y_pred, average='binary')[0], 2))\n",
    "print(\"Recall is:\", round(precision_recall_fscore_support(y_test, y_pred, average='binary')[1], 2))\n",
    "print(\"F-score is:\", round(precision_recall_fscore_support(y_test, y_pred, average='binary')[2], 2))"
   ]
  },
  {
   "cell_type": "markdown",
   "metadata": {},
   "source": [
    "### Applying random forest (undersampling)"
   ]
  },
  {
   "cell_type": "code",
   "execution_count": 109,
   "metadata": {},
   "outputs": [],
   "source": [
    "rfc = RandomForestClassifier(random_state = 1)"
   ]
  },
  {
   "cell_type": "code",
   "execution_count": 110,
   "metadata": {},
   "outputs": [
    {
     "data": {
      "text/plain": [
       "RandomForestClassifier(random_state=1)"
      ]
     },
     "execution_count": 110,
     "metadata": {},
     "output_type": "execute_result"
    }
   ],
   "source": [
    "rfc.fit(X_train_under, y_train_under)"
   ]
  },
  {
   "cell_type": "code",
   "execution_count": 111,
   "metadata": {},
   "outputs": [],
   "source": [
    "cv_scores = cross_val_score(rfc, X_train_under, y_train_under, scoring='f1', cv=cv, n_jobs=-1)"
   ]
  },
  {
   "cell_type": "code",
   "execution_count": 112,
   "metadata": {
    "scrolled": true
   },
   "outputs": [
    {
     "name": "stdout",
     "output_type": "stream",
     "text": [
      "RFC: [0.63544304 0.63265306 0.65675341 0.65517241 0.59324155 0.62709677\n",
      " 0.6591195  0.64871481 0.64993726 0.63144963 0.65162907 0.63786531\n",
      " 0.65598027 0.65577889 0.62278481]\n",
      "Mean(F1): 0.6409079873331507\n",
      "Std dev(F1): 0.017281898023121623\n"
     ]
    }
   ],
   "source": [
    "print(\"RFC:\",cv_scores)\n",
    "print(\"Mean(F1):\", np.mean(cv_scores))\n",
    "print(\"Std dev(F1):\", np.std(cv_scores))"
   ]
  },
  {
   "cell_type": "code",
   "execution_count": 113,
   "metadata": {},
   "outputs": [],
   "source": [
    "y_pred = rfc.predict(X_test_scaled)"
   ]
  },
  {
   "cell_type": "markdown",
   "metadata": {},
   "source": [
    "### Confusion matrix"
   ]
  },
  {
   "cell_type": "code",
   "execution_count": 114,
   "metadata": {},
   "outputs": [
    {
     "name": "stdout",
     "output_type": "stream",
     "text": [
      "              precision    recall  f1-score   support\n",
      "\n",
      "         0.0       0.91      0.63      0.75      4555\n",
      "         1.0       0.25      0.65      0.36       845\n",
      "\n",
      "    accuracy                           0.64      5400\n",
      "   macro avg       0.58      0.64      0.55      5400\n",
      "weighted avg       0.81      0.64      0.69      5400\n",
      "\n"
     ]
    },
    {
     "data": {
      "image/png": "[encoded data removed]",
      "text/plain": [
       "<Figure size 720x360 with 2 Axes>"
      ]
     },
     "metadata": {
      "needs_background": "light"
     },
     "output_type": "display_data"
    }
   ],
   "source": [
    "generate_classification_report(y_test, y_pred);"
   ]
  },
  {
   "cell_type": "markdown",
   "metadata": {},
   "source": [
    "### Performance metrics"
   ]
  },
  {
   "cell_type": "code",
   "execution_count": 115,
   "metadata": {
    "scrolled": true
   },
   "outputs": [
    {
     "name": "stdout",
     "output_type": "stream",
     "text": [
      "Precision is: 0.25\n",
      "Recall is: 0.65\n",
      "F-score is: 0.36\n"
     ]
    }
   ],
   "source": [
    "print(\"Precision is:\", round(precision_recall_fscore_support(y_test, y_pred, average='binary')[0], 2))\n",
    "print(\"Recall is:\", round(precision_recall_fscore_support(y_test, y_pred, average='binary')[1], 2))\n",
    "print(\"F-score is:\", round(precision_recall_fscore_support(y_test, y_pred, average='binary')[2], 2))"
   ]
  },
  {
   "cell_type": "markdown",
   "metadata": {},
   "source": [
    "### Adaptive Boosting (no sampling)"
   ]
  },
  {
   "cell_type": "code",
   "execution_count": 116,
   "metadata": {},
   "outputs": [],
   "source": [
    "adac = AdaBoostClassifier(random_state = 1)"
   ]
  },
  {
   "cell_type": "code",
   "execution_count": 117,
   "metadata": {},
   "outputs": [
    {
     "data": {
      "text/plain": [
       "AdaBoostClassifier(random_state=1)"
      ]
     },
     "execution_count": 117,
     "metadata": {},
     "output_type": "execute_result"
    }
   ],
   "source": [
    "adac.fit(X_train_scaled, y_train)"
   ]
  },
  {
   "cell_type": "code",
   "execution_count": 118,
   "metadata": {},
   "outputs": [],
   "source": [
    "cv_scores = cross_val_score(adac, X_train_scaled, y_train, scoring='f1', cv=cv, n_jobs=-1)"
   ]
  },
  {
   "cell_type": "code",
   "execution_count": 119,
   "metadata": {},
   "outputs": [
    {
     "name": "stdout",
     "output_type": "stream",
     "text": [
      "ADAC: [0.12631579 0.1038961  0.14111922 0.1242236  0.09545455 0.08636364\n",
      " 0.09799555 0.11790393 0.12888889 0.13596491 0.12053571 0.10799136\n",
      " 0.12147505 0.10989011 0.13242009]\n",
      "Mean(F1): 0.1166959004308233\n",
      "Std dev(F1): 0.015403099719295774\n"
     ]
    }
   ],
   "source": [
    "print(\"ADAC:\",cv_scores)\n",
    "print(\"Mean(F1):\", np.mean(cv_scores))\n",
    "print(\"Std dev(F1):\", np.std(cv_scores))"
   ]
  },
  {
   "cell_type": "code",
   "execution_count": 120,
   "metadata": {},
   "outputs": [],
   "source": [
    "y_pred = rfc.predict(X_test_scaled)"
   ]
  },
  {
   "cell_type": "markdown",
   "metadata": {},
   "source": [
    "### Confusion matrix"
   ]
  },
  {
   "cell_type": "code",
   "execution_count": 121,
   "metadata": {
    "scrolled": true
   },
   "outputs": [
    {
     "name": "stdout",
     "output_type": "stream",
     "text": [
      "              precision    recall  f1-score   support\n",
      "\n",
      "         0.0       0.91      0.63      0.75      4555\n",
      "         1.0       0.25      0.65      0.36       845\n",
      "\n",
      "    accuracy                           0.64      5400\n",
      "   macro avg       0.58      0.64      0.55      5400\n",
      "weighted avg       0.81      0.64      0.69      5400\n",
      "\n"
     ]
    },
    {
     "data": {
      "image/png": "[encoded data removed]",
      "text/plain": [
       "<Figure size 720x360 with 2 Axes>"
      ]
     },
     "metadata": {
      "needs_background": "light"
     },
     "output_type": "display_data"
    }
   ],
   "source": [
    "generate_classification_report(y_test, y_pred);"
   ]
  },
  {
   "cell_type": "markdown",
   "metadata": {},
   "source": [
    "### Performance metrics"
   ]
  },
  {
   "cell_type": "code",
   "execution_count": 122,
   "metadata": {
    "scrolled": true
   },
   "outputs": [
    {
     "name": "stdout",
     "output_type": "stream",
     "text": [
      "Precision is: 0.25\n",
      "Recall is: 0.65\n",
      "F-score is: 0.36\n"
     ]
    }
   ],
   "source": [
    "print(\"Precision is:\", round(precision_recall_fscore_support(y_test, y_pred, average='binary')[0], 2))\n",
    "print(\"Recall is:\", round(precision_recall_fscore_support(y_test, y_pred, average='binary')[1], 2))\n",
    "print(\"F-score is:\", round(precision_recall_fscore_support(y_test, y_pred, average='binary')[2], 2))"
   ]
  },
  {
   "cell_type": "markdown",
   "metadata": {},
   "source": [
    "### Adaptive Boosting (oversampling)"
   ]
  },
  {
   "cell_type": "code",
   "execution_count": 123,
   "metadata": {},
   "outputs": [],
   "source": [
    "ada = AdaBoostClassifier(random_state = 1)"
   ]
  },
  {
   "cell_type": "code",
   "execution_count": 124,
   "metadata": {},
   "outputs": [
    {
     "data": {
      "text/plain": [
       "AdaBoostClassifier(random_state=1)"
      ]
     },
     "execution_count": 124,
     "metadata": {},
     "output_type": "execute_result"
    }
   ],
   "source": [
    "ada.fit(X_train_over, y_train_over)"
   ]
  },
  {
   "cell_type": "code",
   "execution_count": 125,
   "metadata": {},
   "outputs": [],
   "source": [
    "cv_scores = cross_val_score(ada, X_train_over, y_train_over, scoring='f1', cv=cv, n_jobs=-1)"
   ]
  },
  {
   "cell_type": "code",
   "execution_count": 126,
   "metadata": {},
   "outputs": [
    {
     "name": "stdout",
     "output_type": "stream",
     "text": [
      "ADAC: [0.86717407 0.87868852 0.87384765 0.88233849 0.86914947 0.87018618\n",
      " 0.87546607 0.87978142 0.86978008 0.88204876 0.87204969 0.88194444\n",
      " 0.87850467 0.87434161 0.87310415]\n",
      "Mean(F1): 0.875227018587765\n",
      "Std dev(F1): 0.0048983810102087855\n"
     ]
    }
   ],
   "source": [
    "print(\"ADAC:\",cv_scores)\n",
    "print(\"Mean(F1):\", np.mean(cv_scores))\n",
    "print(\"Std dev(F1):\", np.std(cv_scores))"
   ]
  },
  {
   "cell_type": "code",
   "execution_count": 127,
   "metadata": {},
   "outputs": [],
   "source": [
    "y_pred = ada.predict(X_test_scaled)"
   ]
  },
  {
   "cell_type": "code",
   "execution_count": 128,
   "metadata": {
    "scrolled": true
   },
   "outputs": [
    {
     "name": "stdout",
     "output_type": "stream",
     "text": [
      "              precision    recall  f1-score   support\n",
      "\n",
      "         0.0       0.87      0.93      0.90      4555\n",
      "         1.0       0.38      0.23      0.29       845\n",
      "\n",
      "    accuracy                           0.82      5400\n",
      "   macro avg       0.62      0.58      0.59      5400\n",
      "weighted avg       0.79      0.82      0.80      5400\n",
      "\n"
     ]
    },
    {
     "data": {
      "image/png": "[encoded data removed]",
      "text/plain": [
       "<Figure size 720x360 with 2 Axes>"
      ]
     },
     "metadata": {
      "needs_background": "light"
     },
     "output_type": "display_data"
    }
   ],
   "source": [
    "generate_classification_report(y_test, y_pred);"
   ]
  },
  {
   "cell_type": "markdown",
   "metadata": {},
   "source": [
    "### Performance metrics"
   ]
  },
  {
   "cell_type": "code",
   "execution_count": 129,
   "metadata": {
    "scrolled": true
   },
   "outputs": [
    {
     "name": "stdout",
     "output_type": "stream",
     "text": [
      "Precision is: 0.38\n",
      "Recall is: 0.23\n",
      "F-score is: 0.29\n"
     ]
    }
   ],
   "source": [
    "print(\"Precision is:\", round(precision_recall_fscore_support(y_test, y_pred, average='binary')[0], 2))\n",
    "print(\"Recall is:\", round(precision_recall_fscore_support(y_test, y_pred, average='binary')[1], 2))\n",
    "print(\"F-score is:\", round(precision_recall_fscore_support(y_test, y_pred, average='binary')[2], 2))"
   ]
  },
  {
   "cell_type": "markdown",
   "metadata": {},
   "source": [
    "### Adaptive Boosting (undersampling)"
   ]
  },
  {
   "cell_type": "code",
   "execution_count": 130,
   "metadata": {},
   "outputs": [],
   "source": [
    "ada = AdaBoostClassifier(random_state = 1)"
   ]
  },
  {
   "cell_type": "code",
   "execution_count": 131,
   "metadata": {},
   "outputs": [
    {
     "data": {
      "text/plain": [
       "AdaBoostClassifier(random_state=1)"
      ]
     },
     "execution_count": 131,
     "metadata": {},
     "output_type": "execute_result"
    }
   ],
   "source": [
    "ada.fit(X_train_under, y_train_under)"
   ]
  },
  {
   "cell_type": "code",
   "execution_count": 132,
   "metadata": {},
   "outputs": [],
   "source": [
    "cv_scores = cross_val_score(rfc, X_train_under, y_train_under, scoring='f1', cv=cv, n_jobs=-1)"
   ]
  },
  {
   "cell_type": "code",
   "execution_count": 133,
   "metadata": {
    "scrolled": true
   },
   "outputs": [
    {
     "name": "stdout",
     "output_type": "stream",
     "text": [
      "RFC: [0.63544304 0.63265306 0.65675341 0.65517241 0.59324155 0.62709677\n",
      " 0.6591195  0.64871481 0.64993726 0.63144963 0.65162907 0.63786531\n",
      " 0.65598027 0.65577889 0.62278481]\n",
      "Mean(F1): 0.6409079873331507\n",
      "Std dev(F1): 0.017281898023121623\n"
     ]
    }
   ],
   "source": [
    "print(\"RFC:\",cv_scores)\n",
    "print(\"Mean(F1):\", np.mean(cv_scores))\n",
    "print(\"Std dev(F1):\", np.std(cv_scores))"
   ]
  },
  {
   "cell_type": "code",
   "execution_count": 134,
   "metadata": {},
   "outputs": [],
   "source": [
    "y_pred = rfc.predict(X_test_scaled)"
   ]
  },
  {
   "cell_type": "markdown",
   "metadata": {},
   "source": [
    "### Confusion matrix"
   ]
  },
  {
   "cell_type": "code",
   "execution_count": 135,
   "metadata": {},
   "outputs": [
    {
     "name": "stdout",
     "output_type": "stream",
     "text": [
      "              precision    recall  f1-score   support\n",
      "\n",
      "         0.0       0.91      0.63      0.75      4555\n",
      "         1.0       0.25      0.65      0.36       845\n",
      "\n",
      "    accuracy                           0.64      5400\n",
      "   macro avg       0.58      0.64      0.55      5400\n",
      "weighted avg       0.81      0.64      0.69      5400\n",
      "\n"
     ]
    },
    {
     "data": {
      "image/png": "[encoded data removed]",
      "text/plain": [
       "<Figure size 720x360 with 2 Axes>"
      ]
     },
     "metadata": {
      "needs_background": "light"
     },
     "output_type": "display_data"
    }
   ],
   "source": [
    "generate_classification_report(y_test, y_pred);"
   ]
  },
  {
   "cell_type": "markdown",
   "metadata": {},
   "source": [
    "### Performance metrics"
   ]
  },
  {
   "cell_type": "code",
   "execution_count": 136,
   "metadata": {
    "scrolled": true
   },
   "outputs": [
    {
     "name": "stdout",
     "output_type": "stream",
     "text": [
      "Precision is: 0.25\n",
      "Recall is: 0.65\n",
      "F-score is: 0.36\n"
     ]
    }
   ],
   "source": [
    "print(\"Precision is:\", round(precision_recall_fscore_support(y_test, y_pred, average='binary')[0], 2))\n",
    "print(\"Recall is:\", round(precision_recall_fscore_support(y_test, y_pred, average='binary')[1], 2))\n",
    "print(\"F-score is:\", round(precision_recall_fscore_support(y_test, y_pred, average='binary')[2], 2))"
   ]
  },
  {
   "cell_type": "markdown",
   "metadata": {},
   "source": [
    "## Best flow : Mixed imputation + undersampling + (Logistic+forest+boost)"
   ]
  },
  {
   "cell_type": "markdown",
   "metadata": {},
   "source": [
    "### Stacking classifier using the top 3 models"
   ]
  },
  {
   "cell_type": "code",
   "execution_count": 137,
   "metadata": {},
   "outputs": [],
   "source": [
    "vc = VotingClassifier(estimators = [('logistic', log_lr), ('adaboost', ada),\n",
    "                                   ('forest', rfc)],\n",
    "                      voting = 'hard')"
   ]
  },
  {
   "cell_type": "code",
   "execution_count": 138,
   "metadata": {},
   "outputs": [
    {
     "data": {
      "text/plain": [
       "VotingClassifier(estimators=[('logistic',\n",
       "                              LogisticRegression(penalty='none',\n",
       "                                                 random_state=1)),\n",
       "                             ('adaboost', AdaBoostClassifier(random_state=1)),\n",
       "                             ('forest',\n",
       "                              RandomForestClassifier(random_state=1))])"
      ]
     },
     "execution_count": 138,
     "metadata": {},
     "output_type": "execute_result"
    }
   ],
   "source": [
    "vc.fit(X_train_under, y_train_under)"
   ]
  },
  {
   "cell_type": "code",
   "execution_count": 139,
   "metadata": {},
   "outputs": [],
   "source": [
    "cv_scores = cross_val_score(vc, X_train_under, y_train_under, scoring='f1', cv=cv, n_jobs=-1)"
   ]
  },
  {
   "cell_type": "code",
   "execution_count": 140,
   "metadata": {
    "scrolled": true
   },
   "outputs": [
    {
     "name": "stdout",
     "output_type": "stream",
     "text": [
      "VC: [0.64774194 0.6443299  0.67990074 0.67865707 0.62311558 0.65829146\n",
      " 0.68015171 0.65667915 0.65463918 0.62562814 0.6566416  0.62193548\n",
      " 0.66502463 0.65903308 0.66582915]\n",
      "Mean(F1): 0.654506586871939\n",
      "Std dev(F1): 0.01861591379772247\n"
     ]
    }
   ],
   "source": [
    "print(\"VC:\",cv_scores)\n",
    "print(\"Mean(F1):\", np.mean(cv_scores))\n",
    "print(\"Std dev(F1):\", np.std(cv_scores))"
   ]
  },
  {
   "cell_type": "code",
   "execution_count": 141,
   "metadata": {},
   "outputs": [],
   "source": [
    "y_pred = vc.predict(X_test_scaled)"
   ]
  },
  {
   "cell_type": "code",
   "execution_count": 142,
   "metadata": {},
   "outputs": [
    {
     "name": "stdout",
     "output_type": "stream",
     "text": [
      "              precision    recall  f1-score   support\n",
      "\n",
      "         0.0       0.92      0.66      0.77      4555\n",
      "         1.0       0.27      0.68      0.39       845\n",
      "\n",
      "    accuracy                           0.67      5400\n",
      "   macro avg       0.60      0.67      0.58      5400\n",
      "weighted avg       0.82      0.67      0.71      5400\n",
      "\n"
     ]
    },
    {
     "data": {
      "image/png": "[encoded data removed]",
      "text/plain": [
       "<Figure size 720x360 with 2 Axes>"
      ]
     },
     "metadata": {
      "needs_background": "light"
     },
     "output_type": "display_data"
    }
   ],
   "source": [
    "generate_classification_report(y_test, y_pred);"
   ]
  },
  {
   "cell_type": "markdown",
   "metadata": {},
   "source": [
    "## Feature Importance using Random forest (mean decrease in impurity)"
   ]
  },
  {
   "cell_type": "code",
   "execution_count": 143,
   "metadata": {
    "scrolled": true
   },
   "outputs": [
    {
     "data": {
      "image/png": "[encoded data removed]",
      "text/plain": [
       "<Figure size 720x360 with 1 Axes>"
      ]
     },
     "metadata": {
      "needs_background": "light"
     },
     "output_type": "display_data"
    }
   ],
   "source": [
    "feat_importances = pd.Series(rfc.feature_importances_, index=X.columns)\n",
    "feat_importances.nlargest(20).plot(kind='barh');"
   ]
  },
  {
   "cell_type": "markdown",
   "metadata": {},
   "source": [
    "## Feature Importance using Random forest (permutation importance)"
   ]
  },
  {
   "cell_type": "code",
   "execution_count": 146,
   "metadata": {
    "scrolled": true
   },
   "outputs": [
    {
     "data": {
      "image/png": "[encoded data removed]",
      "text/plain": [
       "<Figure size 720x360 with 1 Axes>"
      ]
     },
     "metadata": {
      "needs_background": "light"
     },
     "output_type": "display_data"
    }
   ],
   "source": [
    "result = permutation_importance(\n",
    "    rfc, X_test_scaled, y_test, n_repeats=10, random_state=1, n_jobs=2)\n",
    "feat_importances = pd.Series(result.importances_mean, index=X.columns)\n",
    "feat_importances.nlargest(20).plot(kind='barh');"
   ]
  }
 ],
 "metadata": {
  "kernelspec": {
   "display_name": "Python 3",
   "language": "python",
   "name": "python3"
  },
  "language_info": {
   "codemirror_mode": {
    "name": "ipython",
    "version": 3
   },
   "file_extension": ".py",
   "mimetype": "text/x-python",
   "name": "python",
   "nbconvert_exporter": "python",
   "pygments_lexer": "ipython3",
   "version": "3.7.6"
  }
 },
 "nbformat": 4,
 "nbformat_minor": 5
}
